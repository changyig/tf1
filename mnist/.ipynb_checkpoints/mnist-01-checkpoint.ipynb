{
 "cells": [
  {
   "cell_type": "code",
   "execution_count": 16,
   "metadata": {},
   "outputs": [],
   "source": [
    "import tensorflow as tf\n",
    "from tensorflow.examples.tutorials.mnist import input_data\n",
    "import numpy as np\n",
    "import matplotlib.pyplot as plt"
   ]
  },
  {
   "cell_type": "code",
   "execution_count": 17,
   "metadata": {},
   "outputs": [
    {
     "name": "stdout",
     "output_type": "stream",
     "text": [
      "Extracting ../MNIST_data/train-images-idx3-ubyte.gz\n",
      "Extracting ../MNIST_data/train-labels-idx1-ubyte.gz\n",
      "Extracting ../MNIST_data/t10k-images-idx3-ubyte.gz\n",
      "Extracting ../MNIST_data/t10k-labels-idx1-ubyte.gz\n"
     ]
    }
   ],
   "source": [
    "mnist=input_data.read_data_sets(\"../MNIST_data/\",one_hot=True)\n",
    "path='./save/simple_mnist.ckpt'\n",
    "# print(mnist.train.images.shape,mnist.train.labels.shape)"
   ]
  },
  {
   "cell_type": "code",
   "execution_count": 18,
   "metadata": {},
   "outputs": [],
   "source": [
    "saver = tf.train.Saver()\n",
    "sess=tf.InteractiveSession()\n",
    "x=tf.placeholder(tf.float32,[None,784])\n",
    "W1=tf.Variable(tf.zeros([784,30]),name='w1')\n",
    "b1=tf.Variable(tf.zeros([30]),name='b1')\n",
    "y1=tf.nn.sigmoid(tf.matmul(x,W1)+b1)\n",
    "W2=tf.Variable(tf.zeros([30,10]),name='w2')\n",
    "b2=tf.Variable(tf.zeros([10]),name='b2')\n",
    "y=tf.nn.softmax(tf.matmul(y1,W2)+b2)\n",
    "\n",
    "y_=tf.placeholder(tf.float32,[None,10])\n",
    "cross_entropy=tf.reduce_mean(-tf.reduce_sum(y_*tf.log(y),reduction_indices=[1]))\n",
    "train_step=tf.train.GradientDescentOptimizer(0.3).minimize(cross_entropy)\n",
    "correct_prediction=tf.equal(tf.argmax(y,1),tf.argmax(y_,1))\n",
    "accuracy=tf.reduce_mean(tf.cast(correct_prediction,tf.float32))\n"
   ]
  },
  {
   "cell_type": "code",
   "execution_count": 19,
   "metadata": {},
   "outputs": [
    {
     "name": "stdout",
     "output_type": "stream",
     "text": [
      "0.098\n",
      "0.1136\n",
      "0.2446\n",
      "0.2722\n",
      "0.2901\n",
      "0.3124\n",
      "[4]\n"
     ]
    }
   ],
   "source": [
    "tf.global_variables_initializer().run()\n",
    "\n",
    "for i in range(500):\n",
    "    batch_xs,batch_ys=mnist.train.next_batch(100)\n",
    "    train_step.run({x:batch_xs,y_:batch_ys})\n",
    "    if i%100 == 0:\n",
    "        print(accuracy.eval({x:mnist.test.images,y_:mnist.test.labels}))\n",
    "saver.save(sess,save_path=path)    \n",
    "corrcet_result=tf.argmax(y,1)\n",
    "# print(sess.run(correct_prediction))\n",
    "\n",
    "print(accuracy.eval({x:mnist.test.images,y_:mnist.test.labels}))\n",
    "test_x,test_y=mnist.train.next_batch(1)\n",
    "# print(test_x,test_y)\n",
    "print(corrcet_result.eval({x:test_x}))"
   ]
  },
  {
   "cell_type": "code",
   "execution_count": 49,
   "metadata": {},
   "outputs": [
    {
     "name": "stdout",
     "output_type": "stream",
     "text": [
      "[0 9 6 6 7 5 1 7 9 1 3 1 4 3 1]\n"
     ]
    },
    {
     "data": {
      "image/png": "[encoded data removed]",
      "text/plain": [
       "<Figure size 432x288 with 15 Axes>"
      ]
     },
     "metadata": {
      "needs_background": "light"
     },
     "output_type": "display_data"
    }
   ],
   "source": [
    "test_x,test_y=mnist.train.next_batch(15)\n",
    "test_x,test_y=mnist.train.next_batch(15)\n",
    "print(corrcet_result.eval({x:test_x}))\n",
    "fig = plt.figure()\n",
    "for i in range(0,15,1):\n",
    "    image=test_x[i].reshape(28,28)\n",
    "    lable=np.argmax(test_y[i])\n",
    "    plt.subplot(3,5,i+1) # 绘制前15个手写体数字，以3行6列子图形式展示\n",
    "    plt.tight_layout() # 自动适配\n",
    "    plt.imshow(image, cmap='Greys') # 使用灰色显示像素灰度值\n",
    "    plt.title(\"Label: {}\".format(lable)) # 设置标签为子图标题"
   ]
  },
  {
   "cell_type": "code",
   "execution_count": null,
   "metadata": {},
   "outputs": [],
   "source": []
  }
 ],
 "metadata": {
  "kernelspec": {
   "display_name": "Python 3",
   "language": "python",
   "name": "python3"
  },
  "language_info": {
   "codemirror_mode": {
    "name": "ipython",
    "version": 3
   },
   "file_extension": ".py",
   "mimetype": "text/x-python",
   "name": "python",
   "nbconvert_exporter": "python",
   "pygments_lexer": "ipython3",
   "version": "3.6.6"
  }
 },
 "nbformat": 4,
 "nbformat_minor": 2
}
