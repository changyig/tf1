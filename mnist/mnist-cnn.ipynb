{
 "cells": [
  {
   "cell_type": "code",
   "execution_count": 5,
   "metadata": {},
   "outputs": [],
   "source": [
    "import tensorflow as tf\n",
    "from tensorflow.examples.tutorials.mnist import input_data\n",
    "import matplotlib.pyplot as plt\n",
    "import numpy as np"
   ]
  },
  {
   "cell_type": "code",
   "execution_count": 3,
   "metadata": {},
   "outputs": [
    {
     "ename": "NameError",
     "evalue": "name 'input_data' is not defined",
     "output_type": "error",
     "traceback": [
      "\u001b[1;31m---------------------------------------------------------------------------\u001b[0m",
      "\u001b[1;31mNameError\u001b[0m                                 Traceback (most recent call last)",
      "\u001b[1;32m<ipython-input-3-745fc09c9710>\u001b[0m in \u001b[0;36m<module>\u001b[1;34m\u001b[0m\n\u001b[1;32m----> 1\u001b[1;33m \u001b[0mmnist\u001b[0m\u001b[1;33m=\u001b[0m\u001b[0minput_data\u001b[0m\u001b[1;33m.\u001b[0m\u001b[0mread_data_sets\u001b[0m\u001b[1;33m(\u001b[0m\u001b[1;34m\"../MNIST_data/\"\u001b[0m\u001b[1;33m,\u001b[0m\u001b[0mone_hot\u001b[0m\u001b[1;33m=\u001b[0m\u001b[1;32mTrue\u001b[0m\u001b[1;33m)\u001b[0m\u001b[1;33m\u001b[0m\u001b[0m\n\u001b[0m\u001b[0;32m      2\u001b[0m \u001b[0mprint\u001b[0m\u001b[1;33m(\u001b[0m\u001b[0mmnist\u001b[0m\u001b[1;33m.\u001b[0m\u001b[0mtrain\u001b[0m\u001b[1;33m.\u001b[0m\u001b[0mimages\u001b[0m\u001b[1;33m.\u001b[0m\u001b[0mshape\u001b[0m\u001b[1;33m,\u001b[0m\u001b[0mmnist\u001b[0m\u001b[1;33m.\u001b[0m\u001b[0mtrain\u001b[0m\u001b[1;33m.\u001b[0m\u001b[0mlabels\u001b[0m\u001b[1;33m.\u001b[0m\u001b[0mshape\u001b[0m\u001b[1;33m)\u001b[0m\u001b[1;33m\u001b[0m\u001b[0m\n",
      "\u001b[1;31mNameError\u001b[0m: name 'input_data' is not defined"
     ]
    }
   ],
   "source": [
    "mnist=input_data.read_data_sets(\"../MNIST_data/\",one_hot=True)\n",
    "print(mnist.train.images.shape,mnist.train.labels.shape)"
   ]
  },
  {
   "cell_type": "code",
   "execution_count": 5,
   "metadata": {},
   "outputs": [],
   "source": [
    "sess = tf.InteractiveSession()\n",
    "x = tf.placeholder(\"float\", shape=[None, 784])\n",
    "y_ = tf.placeholder(\"float\", shape=[None, 10])"
   ]
  },
  {
   "cell_type": "code",
   "execution_count": 2,
   "metadata": {},
   "outputs": [],
   "source": [
    "def weight_variable(shape):\n",
    "  initial = tf.truncated_normal(shape, stddev=0.1)\n",
    "  return tf.Variable(initial)\n",
    "def bias_variable(shape):\n",
    "  initial = tf.constant(0.1, shape=shape)\n",
    "  return tf.Variable(initial)\n",
    "def conv2d(x, W):\n",
    "  return tf.nn.conv2d(x, W, strides=[1, 1, 1, 1], padding='SAME')\n",
    "def max_pool_2x2(x):\n",
    "  return tf.nn.max_pool(x, ksize=[1, 2, 2, 1],\n",
    "                        strides=[1, 2, 2, 1], padding='SAME')"
   ]
  },
  {
   "cell_type": "code",
   "execution_count": 7,
   "metadata": {},
   "outputs": [],
   "source": [
    "#第一层卷积\n",
    "W_conv1 = weight_variable([5, 5, 1, 32])\n",
    "b_conv1 = bias_variable([32])\n",
    "x_image = tf.reshape(x, [-1,28,28,1])\n",
    "h_conv1 = tf.nn.relu(conv2d(x_image, W_conv1) + b_conv1)\n",
    "h_pool1 = max_pool_2x2(h_conv1)\n",
    "#第二层卷积\n",
    "W_conv2 = weight_variable([5, 5, 32, 64])\n",
    "b_conv2 = bias_variable([64])\n",
    "h_conv2 = tf.nn.relu(conv2d(h_pool1, W_conv2) + b_conv2)\n",
    "h_pool2 = max_pool_2x2(h_conv2)\n",
    "#密集连接\n",
    "W_fc1 = weight_variable([7 * 7 * 64, 1024])\n",
    "b_fc1 = bias_variable([1024])\n",
    "h_pool2_flat = tf.reshape(h_pool2, [-1, 7*7*64])\n",
    "h_fc1 = tf.nn.relu(tf.matmul(h_pool2_flat, W_fc1) + b_fc1)\n",
    "#dropout\n",
    "keep_prob = tf.placeholder(\"float\")\n",
    "h_fc1_drop = tf.nn.dropout(h_fc1, keep_prob)\n",
    "#输出层\n",
    "W_fc2 = weight_variable([1024, 10])\n",
    "b_fc2 = bias_variable([10])\n",
    "\n",
    "y_conv=tf.nn.softmax(tf.matmul(h_fc1_drop, W_fc2) + b_fc2)"
   ]
  },
  {
   "cell_type": "code",
   "execution_count": null,
   "metadata": {},
   "outputs": [
    {
     "name": "stdout",
     "output_type": "stream",
     "text": [
      "step 0, training accuracy 0.18\n",
      "step 10, training accuracy 0.38\n",
      "step 20, training accuracy 0.44\n",
      "step 30, training accuracy 0.72\n",
      "step 40, training accuracy 0.68\n",
      "step 50, training accuracy 0.52\n",
      "step 60, training accuracy 0.8\n",
      "step 70, training accuracy 0.84\n",
      "step 80, training accuracy 0.88\n",
      "step 90, training accuracy 0.9\n",
      "step 100, training accuracy 0.86\n",
      "step 110, training accuracy 0.88\n",
      "step 120, training accuracy 0.82\n",
      "step 130, training accuracy 0.78\n",
      "step 140, training accuracy 0.82\n",
      "step 150, training accuracy 0.84\n",
      "step 160, training accuracy 0.84\n",
      "step 170, training accuracy 0.88\n",
      "step 180, training accuracy 0.78\n",
      "step 190, training accuracy 0.92\n",
      "step 200, training accuracy 0.9\n",
      "step 210, training accuracy 0.92\n",
      "step 220, training accuracy 0.94\n",
      "step 230, training accuracy 0.88\n",
      "step 240, training accuracy 0.92\n",
      "step 250, training accuracy 0.88\n",
      "step 260, training accuracy 0.92\n",
      "step 270, training accuracy 0.9\n",
      "step 280, training accuracy 0.88\n",
      "step 290, training accuracy 0.88\n",
      "step 300, training accuracy 0.92\n",
      "step 310, training accuracy 0.92\n",
      "step 320, training accuracy 0.96\n",
      "step 330, training accuracy 0.94\n",
      "step 340, training accuracy 0.9\n",
      "step 350, training accuracy 0.86\n",
      "step 360, training accuracy 0.92\n",
      "step 370, training accuracy 0.9\n",
      "step 380, training accuracy 1\n",
      "step 390, training accuracy 0.92\n",
      "step 400, training accuracy 0.92\n",
      "step 410, training accuracy 0.94\n",
      "step 420, training accuracy 0.88\n",
      "step 430, training accuracy 0.94\n",
      "step 440, training accuracy 0.94\n",
      "step 450, training accuracy 0.94\n",
      "step 460, training accuracy 0.96\n",
      "step 470, training accuracy 0.94\n",
      "step 480, training accuracy 0.96\n",
      "step 490, training accuracy 0.96\n",
      "step 500, training accuracy 0.98\n",
      "step 510, training accuracy 0.92\n",
      "step 520, training accuracy 0.96\n",
      "step 530, training accuracy 0.94\n",
      "step 540, training accuracy 0.96\n",
      "step 550, training accuracy 0.96\n",
      "step 560, training accuracy 0.94\n",
      "step 570, training accuracy 0.96\n",
      "step 580, training accuracy 0.94\n",
      "step 590, training accuracy 0.98\n",
      "step 600, training accuracy 0.96\n",
      "step 610, training accuracy 1\n",
      "step 620, training accuracy 0.9\n",
      "step 630, training accuracy 0.98\n",
      "step 640, training accuracy 0.94\n",
      "step 650, training accuracy 0.9\n",
      "step 660, training accuracy 0.94\n",
      "step 670, training accuracy 0.92\n",
      "step 680, training accuracy 0.84\n",
      "step 690, training accuracy 0.96\n",
      "step 700, training accuracy 0.9\n",
      "step 710, training accuracy 0.96\n",
      "step 720, training accuracy 0.92\n",
      "step 730, training accuracy 0.96\n",
      "step 740, training accuracy 0.98\n",
      "step 750, training accuracy 0.94\n",
      "step 760, training accuracy 0.94\n",
      "step 770, training accuracy 0.98\n",
      "step 780, training accuracy 0.9\n",
      "step 790, training accuracy 0.96\n",
      "step 800, training accuracy 0.98\n",
      "step 810, training accuracy 0.96\n",
      "step 820, training accuracy 0.98\n",
      "step 830, training accuracy 0.98\n",
      "step 840, training accuracy 1\n",
      "step 850, training accuracy 0.94\n",
      "step 860, training accuracy 0.9\n",
      "step 870, training accuracy 1\n",
      "step 880, training accuracy 1\n",
      "step 890, training accuracy 0.96\n",
      "step 900, training accuracy 0.96\n",
      "step 910, training accuracy 0.92\n",
      "step 920, training accuracy 0.98\n",
      "step 930, training accuracy 0.94\n",
      "step 940, training accuracy 0.98\n",
      "step 950, training accuracy 0.96\n",
      "step 960, training accuracy 0.98\n",
      "step 970, training accuracy 0.96\n",
      "step 980, training accuracy 0.96\n",
      "step 990, training accuracy 0.98\n"
     ]
    }
   ],
   "source": [
    "cross_entropy = -tf.reduce_sum(y_*tf.log(y_conv))\n",
    "train_step = tf.train.AdamOptimizer(1e-4).minimize(cross_entropy)\n",
    "correct_prediction = tf.equal(tf.argmax(y_conv,1), tf.argmax(y_,1))\n",
    "corrcet_result=tf.argmax(y_conv,1)\n",
    "accuracy = tf.reduce_mean(tf.cast(correct_prediction, \"float\"))\n",
    "sess.run(tf.global_variables_initializer())\n",
    "for i in range(1000):\n",
    "  batch = mnist.train.next_batch(50)\n",
    "  if i%10 == 0:\n",
    "    train_accuracy = accuracy.eval(feed_dict={\n",
    "        x:batch[0], y_: batch[1], keep_prob: 1.0})\n",
    "    print(\"step %d, training accuracy %g\"%(i, train_accuracy))\n",
    "  train_step.run(feed_dict={x: batch[0], y_: batch[1], keep_prob: 0.5})\n",
    "\n",
    "print(accuracy.eval(feed_dict={\n",
    "    x: mnist.test.images, y_: mnist.test.labels, keep_prob: 1.0}))"
   ]
  },
  {
   "cell_type": "code",
   "execution_count": 1,
   "metadata": {},
   "outputs": [
    {
     "ename": "NameError",
     "evalue": "name 'mnist' is not defined",
     "output_type": "error",
     "traceback": [
      "\u001b[1;31m---------------------------------------------------------------------------\u001b[0m",
      "\u001b[1;31mNameError\u001b[0m                                 Traceback (most recent call last)",
      "\u001b[1;32m<ipython-input-1-4373e8bba54d>\u001b[0m in \u001b[0;36m<module>\u001b[1;34m\u001b[0m\n\u001b[1;32m----> 1\u001b[1;33m \u001b[0mtest_x\u001b[0m\u001b[1;33m,\u001b[0m\u001b[0mtest_y\u001b[0m\u001b[1;33m=\u001b[0m\u001b[0mmnist\u001b[0m\u001b[1;33m.\u001b[0m\u001b[0mtrain\u001b[0m\u001b[1;33m.\u001b[0m\u001b[0mnext_batch\u001b[0m\u001b[1;33m(\u001b[0m\u001b[1;36m15\u001b[0m\u001b[1;33m)\u001b[0m\u001b[1;33m\u001b[0m\u001b[0m\n\u001b[0m\u001b[0;32m      2\u001b[0m \u001b[0mtest_x\u001b[0m\u001b[1;33m,\u001b[0m\u001b[0mtest_y\u001b[0m\u001b[1;33m=\u001b[0m\u001b[0mmnist\u001b[0m\u001b[1;33m.\u001b[0m\u001b[0mtrain\u001b[0m\u001b[1;33m.\u001b[0m\u001b[0mnext_batch\u001b[0m\u001b[1;33m(\u001b[0m\u001b[1;36m15\u001b[0m\u001b[1;33m)\u001b[0m\u001b[1;33m\u001b[0m\u001b[0m\n\u001b[0;32m      3\u001b[0m \u001b[0mprint\u001b[0m\u001b[1;33m(\u001b[0m\u001b[0mcorrcet_result\u001b[0m\u001b[1;33m.\u001b[0m\u001b[0meval\u001b[0m\u001b[1;33m(\u001b[0m\u001b[1;33m{\u001b[0m\u001b[0mx\u001b[0m\u001b[1;33m:\u001b[0m\u001b[0mtest_x\u001b[0m\u001b[1;33m}\u001b[0m\u001b[1;33m)\u001b[0m\u001b[1;33m)\u001b[0m\u001b[1;33m\u001b[0m\u001b[0m\n\u001b[0;32m      4\u001b[0m \u001b[0mfig\u001b[0m \u001b[1;33m=\u001b[0m \u001b[0mplt\u001b[0m\u001b[1;33m.\u001b[0m\u001b[0mfigure\u001b[0m\u001b[1;33m(\u001b[0m\u001b[1;33m)\u001b[0m\u001b[1;33m\u001b[0m\u001b[0m\n\u001b[0;32m      5\u001b[0m \u001b[1;32mfor\u001b[0m \u001b[0mi\u001b[0m \u001b[1;32min\u001b[0m \u001b[0mrange\u001b[0m\u001b[1;33m(\u001b[0m\u001b[1;36m0\u001b[0m\u001b[1;33m,\u001b[0m\u001b[1;36m15\u001b[0m\u001b[1;33m,\u001b[0m\u001b[1;36m1\u001b[0m\u001b[1;33m)\u001b[0m\u001b[1;33m:\u001b[0m\u001b[1;33m\u001b[0m\u001b[0m\n",
      "\u001b[1;31mNameError\u001b[0m: name 'mnist' is not defined"
     ]
    }
   ],
   "source": [
    "test_x,test_y=mnist.train.next_batch(15)\n",
    "test_x,test_y=mnist.train.next_batch(15)\n",
    "print(corrcet_result.eval({x:test_x}))\n",
    "fig = plt.figure()\n",
    "for i in range(0,15,1):\n",
    "    image=test_x[i].reshape(28,28)\n",
    "    lable=np.argmax(test_y[i])\n",
    "    plt.subplot(3,5,i+1) # 绘制前15个手写体数字，以3行6列子图形式展示\n",
    "    plt.tight_layout() # 自动适配\n",
    "    plt.imshow(image, cmap='Greys') # 使用灰色显示像素灰度值\n",
    "    plt.title(\"Label: {}\".format(lable)) # 设置标签为子图标题"
   ]
  },
  {
   "cell_type": "code",
   "execution_count": null,
   "metadata": {},
   "outputs": [],
   "source": []
  }
 ],
 "metadata": {
  "kernelspec": {
   "display_name": "Python 3",
   "language": "python",
   "name": "python3"
  },
  "language_info": {
   "codemirror_mode": {
    "name": "ipython",
    "version": 3
   },
   "file_extension": ".py",
   "mimetype": "text/x-python",
   "name": "python",
   "nbconvert_exporter": "python",
   "pygments_lexer": "ipython3",
   "version": "3.6.6"
  }
 },
 "nbformat": 4,
 "nbformat_minor": 2
}
