{
 "cells": [
  {
   "cell_type": "code",
   "execution_count": 2,
   "metadata": {},
   "outputs": [],
   "source": [
    "import tensorflow as tf\n",
    "from tensorflow.examples.tutorials.mnist import input_data\n",
    "import matplotlib.pyplot as plt\n",
    "import numpy as np"
   ]
  },
  {
   "cell_type": "code",
   "execution_count": 3,
   "metadata": {},
   "outputs": [
    {
     "name": "stdout",
     "output_type": "stream",
     "text": [
      "Extracting ../MNIST_data/train-images-idx3-ubyte.gz\n",
      "Extracting ../MNIST_data/train-labels-idx1-ubyte.gz\n",
      "Extracting ../MNIST_data/t10k-images-idx3-ubyte.gz\n",
      "Extracting ../MNIST_data/t10k-labels-idx1-ubyte.gz\n",
      "(55000, 784) (55000, 10)\n"
     ]
    }
   ],
   "source": [
    "mnist=input_data.read_data_sets(\"../MNIST_data/\",one_hot=True)\n",
    "print(mnist.train.images.shape,mnist.train.labels.shape)"
   ]
  },
  {
   "cell_type": "code",
   "execution_count": 5,
   "metadata": {},
   "outputs": [],
   "source": [
    "sess = tf.InteractiveSession()\n",
    "x = tf.placeholder(\"float\", shape=[None, 784])\n",
    "y_ = tf.placeholder(\"float\", shape=[None, 10])"
   ]
  },
  {
   "cell_type": "code",
   "execution_count": 6,
   "metadata": {},
   "outputs": [],
   "source": [
    "def weight_variable(shape):\n",
    "  initial = tf.truncated_normal(shape, stddev=0.1)\n",
    "  return tf.Variable(initial)\n",
    "def bias_variable(shape):\n",
    "  initial = tf.constant(0.1, shape=shape)\n",
    "  return tf.Variable(initial)\n",
    "def conv2d(x, W):\n",
    "  return tf.nn.conv2d(x, W, strides=[1, 1, 1, 1], padding='SAME')\n",
    "def max_pool_2x2(x):\n",
    "  return tf.nn.max_pool(x, ksize=[1, 2, 2, 1],\n",
    "                        strides=[1, 2, 2, 1], padding='SAME')"
   ]
  },
  {
   "cell_type": "code",
   "execution_count": 7,
   "metadata": {},
   "outputs": [],
   "source": [
    "#第一层卷积\n",
    "W_conv1 = weight_variable([5, 5, 1, 32])\n",
    "b_conv1 = bias_variable([32])\n",
    "x_image = tf.reshape(x, [-1,28,28,1])\n",
    "h_conv1 = tf.nn.relu(conv2d(x_image, W_conv1) + b_conv1)\n",
    "h_pool1 = max_pool_2x2(h_conv1)\n",
    "#第二层卷积\n",
    "W_conv2 = weight_variable([5, 5, 32, 64])\n",
    "b_conv2 = bias_variable([64])\n",
    "h_conv2 = tf.nn.relu(conv2d(h_pool1, W_conv2) + b_conv2)\n",
    "h_pool2 = max_pool_2x2(h_conv2)\n",
    "#密集连接\n",
    "W_fc1 = weight_variable([7 * 7 * 64, 1024])\n",
    "b_fc1 = bias_variable([1024])\n",
    "h_pool2_flat = tf.reshape(h_pool2, [-1, 7*7*64])\n",
    "h_fc1 = tf.nn.relu(tf.matmul(h_pool2_flat, W_fc1) + b_fc1)\n",
    "#dropout\n",
    "keep_prob = tf.placeholder(\"float\")\n",
    "h_fc1_drop = tf.nn.dropout(h_fc1, keep_prob)\n",
    "#输出层\n",
    "W_fc2 = weight_variable([1024, 10])\n",
    "b_fc2 = bias_variable([10])\n",
    "\n",
    "y_conv=tf.nn.softmax(tf.matmul(h_fc1_drop, W_fc2) + b_fc2)"
   ]
  },
  {
   "cell_type": "code",
   "execution_count": null,
   "metadata": {},
   "outputs": [
    {
     "name": "stdout",
     "output_type": "stream",
     "text": [
      "step 0, accuracy: 658.484 , training accuracy 0.08\n",
      "step 10, accuracy: 240.518 , training accuracy 0.3\n",
      "step 20, accuracy: 157.17 , training accuracy 0.44\n",
      "step 30, accuracy: 101.938 , training accuracy 0.61\n",
      "step 40, accuracy: 88.6653 , training accuracy 0.74\n",
      "step 50, accuracy: 83.2397 , training accuracy 0.65\n",
      "step 60, accuracy: 63.9886 , training accuracy 0.8\n",
      "step 70, accuracy: 60.7088 , training accuracy 0.78\n",
      "step 80, accuracy: 32.0822 , training accuracy 0.88\n",
      "step 90, accuracy: 32.9516 , training accuracy 0.89\n",
      "step 100, accuracy: 38.077 , training accuracy 0.9\n",
      "step 110, accuracy: 26.5372 , training accuracy 0.92\n",
      "step 120, accuracy: 30.6765 , training accuracy 0.93\n",
      "step 130, accuracy: 31.1761 , training accuracy 0.9\n",
      "step 140, accuracy: 23.239 , training accuracy 0.92\n",
      "step 150, accuracy: 35.4311 , training accuracy 0.89\n",
      "step 160, accuracy: 30.2994 , training accuracy 0.9\n",
      "step 170, accuracy: 44.1589 , training accuracy 0.85\n",
      "step 180, accuracy: 24.4417 , training accuracy 0.95\n",
      "step 190, accuracy: 31.2234 , training accuracy 0.9\n",
      "step 200, accuracy: 29.3425 , training accuracy 0.91\n",
      "step 210, accuracy: 25.734 , training accuracy 0.94\n",
      "step 220, accuracy: 20.7643 , training accuracy 0.92\n",
      "step 230, accuracy: 23.4178 , training accuracy 0.92\n",
      "step 240, accuracy: 17.4754 , training accuracy 0.97\n",
      "step 250, accuracy: 20.5873 , training accuracy 0.94\n",
      "step 260, accuracy: 19.7406 , training accuracy 0.95\n",
      "step 270, accuracy: 12.4293 , training accuracy 0.98\n",
      "step 280, accuracy: 22.8878 , training accuracy 0.91\n",
      "step 290, accuracy: 11.7977 , training accuracy 0.96\n",
      "step 300, accuracy: 22.0744 , training accuracy 0.95\n",
      "step 310, accuracy: 18.3434 , training accuracy 0.97\n",
      "step 320, accuracy: 37.8286 , training accuracy 0.92\n",
      "step 330, accuracy: 24.3205 , training accuracy 0.94\n",
      "step 340, accuracy: 12.5125 , training accuracy 0.96\n",
      "step 350, accuracy: 20.8425 , training accuracy 0.94\n",
      "step 360, accuracy: 12.0293 , training accuracy 0.98\n",
      "step 370, accuracy: 13.5824 , training accuracy 0.95\n",
      "step 380, accuracy: 14.1013 , training accuracy 0.97\n",
      "step 390, accuracy: 12.2876 , training accuracy 0.96\n",
      "step 400, accuracy: 24.3133 , training accuracy 0.91\n",
      "step 410, accuracy: 29.674 , training accuracy 0.93\n",
      "step 420, accuracy: 18.9566 , training accuracy 0.94\n",
      "step 430, accuracy: 19.9354 , training accuracy 0.96\n",
      "step 440, accuracy: 20.939 , training accuracy 0.94\n",
      "step 450, accuracy: 17.2225 , training accuracy 0.94\n",
      "step 460, accuracy: 12.8543 , training accuracy 0.96\n",
      "step 470, accuracy: 15.107 , training accuracy 0.95\n",
      "step 480, accuracy: 16.745 , training accuracy 0.94\n",
      "step 490, accuracy: 3.69777 , training accuracy 1\n",
      "step 500, accuracy: 15.1798 , training accuracy 0.96\n"
     ]
    }
   ],
   "source": [
    "cross_entropy = tf.reduce_mean(-tf.reduce_sum(y_*tf.log(y_conv)))\n",
    "train_step = tf.train.AdamOptimizer(1e-4).minimize(cross_entropy)\n",
    "correct_prediction = tf.equal(tf.argmax(y_conv,1), tf.argmax(y_,1))\n",
    "corrcet_result=tf.argmax(y_conv,1)\n",
    "accuracy = tf.reduce_mean(tf.cast(correct_prediction, \"float\"))\n",
    "sess.run(tf.global_variables_initializer())\n",
    "for i in range(2000):\n",
    "  batch = mnist.train.next_batch(100)\n",
    "  if i%10 == 0:\n",
    "    train_accuracy = accuracy.eval(feed_dict={\n",
    "        x:batch[0], y_: batch[1], keep_prob: 1.0})\n",
    "    cross_entropy_value=cross_entropy.eval(feed_dict={\n",
    "        x:batch[0], y_: batch[1], keep_prob: 1.0})\n",
    "    print(\"step %d, accuracy: %g , training accuracy %g\"%(i,cross_entropy_value, train_accuracy))\n",
    "#     print(\"step %d,  training accuracy %g\"%(i, train_accuracy))\n",
    "  train_step.run(feed_dict={x: batch[0], y_: batch[1], keep_prob: 0.5})\n",
    "\n",
    "# print(accuracy.eval(feed_dict={\n",
    "#     x: mnist.test.images, y_: mnist.test.labels, keep_prob: 1.0}))"
   ]
  },
  {
   "cell_type": "code",
   "execution_count": 13,
   "metadata": {},
   "outputs": [
    {
     "name": "stdout",
     "output_type": "stream",
     "text": [
      "[[0. 0. 0. ... 0. 0. 0.]\n",
      " [0. 0. 0. ... 0. 0. 0.]\n",
      " [0. 0. 0. ... 0. 0. 0.]\n",
      " ...\n",
      " [0. 0. 0. ... 0. 0. 0.]\n",
      " [0. 0. 0. ... 0. 0. 0.]\n",
      " [0. 0. 0. ... 0. 0. 0.]]\n",
      "[4 1 1 1 6 9 6 9 9 1 3 2 5 0 1]\n",
      "(28, 28)\n",
      "(28, 28)\n",
      "(28, 28)\n",
      "(28, 28)\n",
      "(28, 28)\n",
      "(28, 28)\n",
      "(28, 28)\n",
      "(28, 28)\n",
      "(28, 28)\n",
      "(28, 28)\n",
      "(28, 28)\n",
      "(28, 28)\n",
      "(28, 28)\n",
      "(28, 28)\n",
      "(28, 28)\n"
     ]
    },
    {
     "data": {
      "image/png": "[encoded data removed]",
      "text/plain": [
       "<Figure size 432x288 with 15 Axes>"
      ]
     },
     "metadata": {
      "needs_background": "light"
     },
     "output_type": "display_data"
    }
   ],
   "source": [
    "test_x,test_y=mnist.train.next_batch(15)\n",
    "print(test_x)\n",
    "print(corrcet_result.eval(feed_dict={x:test_x,keep_prob: 1.0}))\n",
    "# acc=\n",
    "fig = plt.figure()\n",
    "for i in range(0,15,1):\n",
    "    image=test_x[i].reshape(28,28)\n",
    "    print(image.shape)\n",
    "    lable=np.argmax(test_y[i])\n",
    "    plt.subplot(3,5,i+1) # 绘制前15个手写体数字，以3行6列子图形式展示\n",
    "    plt.tight_layout() # 自动适配\n",
    "    plt.imshow(image, cmap='Greys') # 使用灰色显示像素灰度值\n",
    "    plt.title(\"Label: {}\".format(lable)) # 设置标签为子图标题"
   ]
  },
  {
   "cell_type": "code",
   "execution_count": null,
   "metadata": {},
   "outputs": [],
   "source": []
  }
 ],
 "metadata": {
  "kernelspec": {
   "display_name": "Python 3",
   "language": "python",
   "name": "python3"
  },
  "language_info": {
   "codemirror_mode": {
    "name": "ipython",
    "version": 3
   },
   "file_extension": ".py",
   "mimetype": "text/x-python",
   "name": "python",
   "nbconvert_exporter": "python",
   "pygments_lexer": "ipython3",
   "version": "3.6.6"
  }
 },
 "nbformat": 4,
 "nbformat_minor": 2
}
