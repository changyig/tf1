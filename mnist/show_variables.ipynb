{
 "cells": [
  {
   "cell_type": "code",
   "execution_count": null,
   "metadata": {},
   "outputs": [],
   "source": [
    "# from tensorflow.python import pywrap_tensorflow\n",
    "import os"
   ]
  },
  {
   "cell_type": "code",
   "execution_count": 16,
   "metadata": {},
   "outputs": [
    {
     "name": "stdout",
     "output_type": "stream",
     "text": [
      "tensor_name:  Variable_1\n",
      "tensor_name:  Variable\n",
      "tensor_name:  Variable_2\n",
      "tensor_name:  Variable_3\n",
      "tensor_name:  Variable_4\n",
      "tensor_name:  Variable_5\n"
     ]
    }
   ],
   "source": [
    "path='./save/simple_mnist.ckpt'\n",
    "path2='./save2/test.ckpt'\n",
    "reader=pywrap_tensorflow.NewCheckpointReader(path2)\n",
    "var_to_shape_map=reader.get_variable_to_shape_map()\n",
    "for key in var_to_shape_map:\n",
    "    print('tensor_name: ',key)"
   ]
  },
  {
   "cell_type": "code",
   "execution_count": null,
   "metadata": {},
   "outputs": [],
   "source": []
  }
 ],
 "metadata": {
  "kernelspec": {
   "display_name": "Python 3",
   "language": "python",
   "name": "python3"
  },
  "language_info": {
   "codemirror_mode": {
    "name": "ipython",
    "version": 3
   },
   "file_extension": ".py",
   "mimetype": "text/x-python",
   "name": "python",
   "nbconvert_exporter": "python",
   "pygments_lexer": "ipython3",
   "version": "3.6.6"
  }
 },
 "nbformat": 4,
 "nbformat_minor": 2
}
