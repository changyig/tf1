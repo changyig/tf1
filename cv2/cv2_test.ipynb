{
 "cells": [
  {
   "cell_type": "code",
   "execution_count": 23,
   "metadata": {},
   "outputs": [],
   "source": [
    "import cv2 as cv\n",
    "import numpy as np"
   ]
  },
  {
   "cell_type": "code",
   "execution_count": 53,
   "metadata": {},
   "outputs": [],
   "source": [
    "def img_blur(img):\n",
    "    dst=cv.blur(img,(5,5))\n",
    "    return dst\n",
    "def img_kernel(img):\n",
    "#     kernel=np.ones([5,5],np.float32)/25\n",
    "    kernel=np.array([[0,1,0],[0,1,0],[0,1,0]],np.float32)/3\n",
    "    dst=cv.filter2D(img,-1,kernel)\n",
    "    return dst\n",
    "img=cv.imread(\"../photos/2.jpg\",1)\n",
    "# print(np.array(img).shape)\n",
    "# print(img)\n",
    "# print(img.shape)\n",
    "# cv.namedWindow(\"test\",cv.WINDOW_AUTOSIZE)\n",
    "src1=img_blur(img)\n",
    "src=img_kernel(img)\n",
    "cv.imshow(\"img\",img)\n",
    "# cv.imshow(\"img_blur\",src1)\n",
    "cv.imshow(\"img_kernel\",src)\n",
    "cv.waitKey(0)\n",
    "cv.destroyAllWindows()"
   ]
  },
  {
   "cell_type": "code",
   "execution_count": null,
   "metadata": {},
   "outputs": [],
   "source": []
  }
 ],
 "metadata": {
  "kernelspec": {
   "display_name": "Python 3",
   "language": "python",
   "name": "python3"
  },
  "language_info": {
   "codemirror_mode": {
    "name": "ipython",
    "version": 3
   },
   "file_extension": ".py",
   "mimetype": "text/x-python",
   "name": "python",
   "nbconvert_exporter": "python",
   "pygments_lexer": "ipython3",
   "version": "3.6.6"
  }
 },
 "nbformat": 4,
 "nbformat_minor": 2
}
