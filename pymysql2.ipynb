{
 "cells": [
  {
   "cell_type": "code",
   "execution_count": 74,
   "metadata": {},
   "outputs": [],
   "source": [
    "import pandas as pd\n",
    "import pymysql "
   ]
  },
  {
   "cell_type": "code",
   "execution_count": 75,
   "metadata": {},
   "outputs": [],
   "source": [
    "def conn_mysql():\n",
    "    config={\n",
    "        \"host\":\"localhost\",\n",
    "        \"port\":3306,\n",
    "        \"user\":\"root\",\n",
    "        \"password\":\"bnwt!@#123\",\n",
    "        \"database\":\"pydata\",\n",
    "        \"charset\":\"utf8\"\n",
    "    }\n",
    "    conn=pymysql.connect(**config)\n",
    "    print(conn)\n",
    "    return conn\n",
    "    "
   ]
  },
  {
   "cell_type": "code",
   "execution_count": 76,
   "metadata": {},
   "outputs": [],
   "source": [
    "def data_from_file(file):\n",
    "    pass\n",
    "#     data = pd.read_excel(file,header=None)\n",
    "#     for i in data[[12,13]]:\n",
    "#         if i!=\"systemrevenue@alipay.com\":\n",
    "#             print(i)"
   ]
  },
  {
   "cell_type": "code",
   "execution_count": 89,
   "metadata": {},
   "outputs": [
    {
     "name": "stdout",
     "output_type": "stream",
     "text": [
      "                            12               13\n",
      "3     systemrevenue@alipay.com  支付宝(中国)网络技术有限公司\n",
      "4                  180******76              *灿亚\n",
      "5     systemrevenue@alipay.com  支付宝(中国)网络技术有限公司\n",
      "6                  136******61              *云奇\n",
      "7     systemrevenue@alipay.com  支付宝(中国)网络技术有限公司\n",
      "...                        ...              ...\n",
      "4659  systemrevenue@alipay.com  支付宝(中国)网络技术有限公司\n",
      "4660               181******17              *世豪\n",
      "4661  systemrevenue@alipay.com  支付宝(中国)网络技术有限公司\n",
      "4662               166******62              *金诚\n",
      "4663                       NaN              NaN\n",
      "\n",
      "[4661 rows x 2 columns]\n",
      "4661\n",
      "180******76\n"
     ]
    }
   ],
   "source": [
    "file=\"2.xlsx\"\n",
    "data_from_file(file)\n",
    "data = pd.read_excel(file,header=None)\n",
    "data1=data[[12,13]][3:]\n",
    "print(data1)\n",
    "print(len(data1))\n",
    "print(data1.loc[4,12])\n",
    "\n",
    "# for i in data1[1:]:\n",
    "#     print(i)"
   ]
  },
  {
   "cell_type": "code",
   "execution_count": null,
   "metadata": {},
   "outputs": [],
   "source": []
  }
 ],
 "metadata": {
  "kernelspec": {
   "display_name": "Python 3",
   "language": "python",
   "name": "python3"
  },
  "language_info": {
   "codemirror_mode": {
    "name": "ipython",
    "version": 3
   },
   "file_extension": ".py",
   "mimetype": "text/x-python",
   "name": "python",
   "nbconvert_exporter": "python",
   "pygments_lexer": "ipython3",
   "version": "3.6.6"
  }
 },
 "nbformat": 4,
 "nbformat_minor": 2
}
