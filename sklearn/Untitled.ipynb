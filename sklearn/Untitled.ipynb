{
 "cells": [
  {
   "cell_type": "code",
   "execution_count": 1,
   "metadata": {},
   "outputs": [],
   "source": [
    "from sklearn.feature_extraction import DictVectorizer"
   ]
  },
  {
   "cell_type": "code",
   "execution_count": 3,
   "metadata": {},
   "outputs": [
    {
     "name": "stdout",
     "output_type": "stream",
     "text": [
      "['city=上海', 'city=北京', 'city=重庆', 'temp']\n",
      "[[  1.   0.   0. 100.]\n",
      " [  0.   1.   0.  10.]\n",
      " [  0.   0.   1.  15.]\n",
      " [  1.   0.   0.  15.]\n",
      " [  0.   0.   1.  15.]]\n"
     ]
    }
   ],
   "source": [
    "str1=[{\"city\": \"上海\",\"temp\": 100},{\"city\": \"北京\",\"temp\": 10},{\"city\": \"重庆\",\"temp\": 15},{\"city\": \"上海\",\"temp\": 15},{\"city\": \"重庆\",\"temp\": 15}]\n",
    "dict=DictVectorizer(sparse=False)\n",
    "# dict=DictVectorizer()\n",
    "data=dict.fit_transform(str1)\n",
    "print(dict.get_feature_names())\n",
    "print(data)"
   ]
  },
  {
   "cell_type": "code",
   "execution_count": null,
   "metadata": {},
   "outputs": [],
   "source": []
  }
 ],
 "metadata": {
  "kernelspec": {
   "display_name": "Python 3",
   "language": "python",
   "name": "python3"
  },
  "language_info": {
   "codemirror_mode": {
    "name": "ipython",
    "version": 3
   },
   "file_extension": ".py",
   "mimetype": "text/x-python",
   "name": "python",
   "nbconvert_exporter": "python",
   "pygments_lexer": "ipython3",
   "version": "3.6.6"
  }
 },
 "nbformat": 4,
 "nbformat_minor": 2
}
