{
 "cells": [
  {
   "cell_type": "code",
   "execution_count": 4,
   "metadata": {},
   "outputs": [
    {
     "name": "stdout",
     "output_type": "stream",
     "text": [
      "(150, 4)\n",
      "[0 0 0 0 0 0 0 0 0 0 0 0 0 0 0 0 0 0 0 0 0 0 0 0 0 0 0 0 0 0 0 0 0 0 0 0 0\n",
      " 0 0 0 0 0 0 0 0 0 0 0 0 0 1 1 1 1 1 1 1 1 1 1 1 1 1 1 1 1 1 1 1 1 1 1 1 1\n",
      " 1 1 1 1 1 1 1 1 1 1 1 1 1 1 1 1 1 1 1 1 1 1 1 1 1 1 2 2 2 2 2 2 2 2 2 2 2\n",
      " 2 2 2 2 2 2 2 2 2 2 2 2 2 2 2 2 2 2 2 2 2 2 2 2 2 2 2 2 2 2 2 2 2 2 2 2 2\n",
      " 2 2]\n",
      "['sepal length (cm)', 'sepal width (cm)', 'petal length (cm)', 'petal width (cm)']\n"
     ]
    }
   ],
   "source": [
    "from sklearn.datasets import load_iris\n",
    "from sklearn.model_selection import train_test_split\n",
    "from sklearn.neighbors import KNeighborsClassifier\n",
    "\n",
    "from sklearn.tree import DecisionTreeClassifier,export_graphviz\n",
    "import graphviz\n",
    "\n",
    "import numpy as np\n",
    "# knn=KNeighborsClassifier(n_neighbors=1)\n",
    "dataSet = load_iris()\n",
    "# x_train,x_test,y_train,y_test=train_test_split(dataSet['data'],dataSet['target'],random_state=0)\n",
    "# knn.fit(x_train,y_train)\n",
    "# x_new=np.array([[5,2.9,1,0.2]])\n",
    "# prediction =knn.predict(x_new)\n",
    "# y_pred =knn.predict(x_test)\n",
    "# # print(dataSet['data'])\n",
    "# print(prediction)\n",
    "# print(dataSet['target_names'][prediction])\n",
    "# print(np.mean(y_pred==y_test))\n",
    "# print(y_pred.shape)\n",
    "# print(y_pred)\n",
    "\n",
    "# tree=DecisionTreeClassifier(random_state=0)\n",
    "# tree.fit(x_train,y_train)\n",
    "# export_graphviz(tree,out_file=\"tree.dot\",class_names=dataSet['target_names'],feature_names=dataSet.feature_names,impurity=False,filled=True)\n",
    "# for i in y_pred :\n",
    "#     print(dataSet['target_names'][i])\n",
    "data = dataSet['data'] # 数据\n",
    "label = dataSet['target'] # 数据对应的标签\n",
    "feature = dataSet['feature_names'] # 特征的名称\n",
    "target = dataSet['target_names'] # 标签的名称\n",
    "print(data.shape)\n",
    "print(dataSet.target)\n",
    "print(dataSet.feature_names)\n"
   ]
  },
  {
   "cell_type": "code",
   "execution_count": null,
   "metadata": {},
   "outputs": [],
   "source": []
  }
 ],
 "metadata": {
  "kernelspec": {
   "display_name": "Python 3",
   "language": "python",
   "name": "python3"
  },
  "language_info": {
   "codemirror_mode": {
    "name": "ipython",
    "version": 3
   },
   "file_extension": ".py",
   "mimetype": "text/x-python",
   "name": "python",
   "nbconvert_exporter": "python",
   "pygments_lexer": "ipython3",
   "version": "3.6.6"
  }
 },
 "nbformat": 4,
 "nbformat_minor": 2
}
