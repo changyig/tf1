{
 "cells": [
  {
   "cell_type": "code",
   "execution_count": 2,
   "metadata": {},
   "outputs": [],
   "source": [
    "from sklearn.feature_extraction import DictVectorizer"
   ]
  },
  {
   "cell_type": "code",
   "execution_count": 9,
   "metadata": {},
   "outputs": [
    {
     "name": "stdout",
     "output_type": "stream",
     "text": [
      "['city=上海', 'city=北京', 'city=重庆', 'temp']\n",
      "  (0, 0)\t1.0\n",
      "  (0, 3)\t100.0\n",
      "  (1, 1)\t1.0\n",
      "  (1, 3)\t10.0\n",
      "  (2, 2)\t1.0\n",
      "  (2, 3)\t15.0\n",
      "  (3, 0)\t1.0\n",
      "  (3, 3)\t15.0\n",
      "  (4, 2)\t1.0\n",
      "  (4, 3)\t15.0\n"
     ]
    }
   ],
   "source": [
    "str1=[{\"city\": \"上海\",\"temp\": 100},{\"city\": \"北京\",\"temp\": 10},{\"city\": \"重庆\",\"temp\": 15},{\"city\": \"上海\",\"temp\": 15},{\"city\": \"重庆\",\"temp\": 15}]\n",
    "# dict=DictVectorizer(sparse=False)\n",
    "dict=DictVectorizer()\n",
    "data=dict.fit_transform(str1)\n",
    "print(dict.get_feature_names())\n",
    "print(data)"
   ]
  },
  {
   "cell_type": "code",
   "execution_count": null,
   "metadata": {},
   "outputs": [],
   "source": []
  }
 ],
 "metadata": {
  "kernelspec": {
   "display_name": "Python 3",
   "language": "python",
   "name": "python3"
  },
  "language_info": {
   "codemirror_mode": {
    "name": "ipython",
    "version": 3
   },
   "file_extension": ".py",
   "mimetype": "text/x-python",
   "name": "python",
   "nbconvert_exporter": "python",
   "pygments_lexer": "ipython3",
   "version": "3.6.6"
  }
 },
 "nbformat": 4,
 "nbformat_minor": 2
}
