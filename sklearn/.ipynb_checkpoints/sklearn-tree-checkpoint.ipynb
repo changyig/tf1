{
 "cells": [
  {
   "cell_type": "code",
   "execution_count": 1,
   "metadata": {},
   "outputs": [
    {
     "name": "stdout",
     "output_type": "stream",
     "text": [
      "Accucracy on training set:0.988\n",
      "Accucracy on test set:0.951\n",
      "22\n",
      "digraph Tree {\n",
      "node [shape=box, style=\"filled\", color=\"black\"] ;\n",
      "0 [label=\"worst radius <= 16.795\\nsamples = 426\\nvalue = [159, 267]\\nclass = bengin\", fillcolor=\"#afd7f4\"] ;\n",
      "1 [label=\"worst concave points <= 0.136\\nsamples = 284\\nvalue = [25, 259]\\nclass = bengin\", fillcolor=\"#4ca6e8\"] ;\n",
      "0 -> 1 [labeldistance=2.5, labelangle=45, headlabel=\"True\"] ;\n",
      "2 [label=\"radius error <= 1.048\\nsamples = 252\\nvalue = [4, 248]\\nclass = bengin\", fillcolor=\"#3c9fe5\"] ;\n",
      "1 -> 2 ;\n",
      "3 [label=\"smoothness error <= 0.003\\nsamples = 251\\nvalue = [3, 248]\\nclass = bengin\", fillcolor=\"#3b9ee5\"] ;\n",
      "2 -> 3 ;\n",
      "4 [label=\"samples = 4\\nvalue = [1, 3]\\nclass = bengin\", fillcolor=\"#7bbeee\"] ;\n",
      "3 -> 4 ;\n",
      "5 [label=\"samples = 247\\nvalue = [2, 245]\\nclass = bengin\", fillcolor=\"#3b9ee5\"] ;\n",
      "3 -> 5 ;\n",
      "6 [label=\"samples = 1\\nvalue = [1, 0]\\nclass = malignant\", fillcolor=\"#e58139\"] ;\n",
      "2 -> 6 ;\n",
      "7 [label=\"worst texture <= 25.62\\nsamples = 32\\nvalue = [21, 11]\\nclass = malignant\", fillcolor=\"#f3c3a1\"] ;\n",
      "1 -> 7 ;\n",
      "8 [label=\"worst smoothness <= 0.179\\nsamples = 12\\nvalue = [3, 9]\\nclass = bengin\", fillcolor=\"#7bbeee\"] ;\n",
      "7 -> 8 ;\n",
      "9 [label=\"samples = 10\\nvalue = [1, 9]\\nclass = bengin\", fillcolor=\"#4fa8e8\"] ;\n",
      "8 -> 9 ;\n",
      "10 [label=\"samples = 2\\nvalue = [2, 0]\\nclass = malignant\", fillcolor=\"#e58139\"] ;\n",
      "8 -> 10 ;\n",
      "11 [label=\"worst symmetry <= 0.268\\nsamples = 20\\nvalue = [18, 2]\\nclass = malignant\", fillcolor=\"#e88f4f\"] ;\n",
      "7 -> 11 ;\n",
      "12 [label=\"samples = 3\\nvalue = [1, 2]\\nclass = bengin\", fillcolor=\"#9ccef2\"] ;\n",
      "11 -> 12 ;\n",
      "13 [label=\"samples = 17\\nvalue = [17, 0]\\nclass = malignant\", fillcolor=\"#e58139\"] ;\n",
      "11 -> 13 ;\n",
      "14 [label=\"texture error <= 0.473\\nsamples = 142\\nvalue = [134, 8]\\nclass = malignant\", fillcolor=\"#e78945\"] ;\n",
      "0 -> 14 [labeldistance=2.5, labelangle=-45, headlabel=\"False\"] ;\n",
      "15 [label=\"samples = 5\\nvalue = [0, 5]\\nclass = bengin\", fillcolor=\"#399de5\"] ;\n",
      "14 -> 15 ;\n",
      "16 [label=\"worst concavity <= 0.191\\nsamples = 137\\nvalue = [134, 3]\\nclass = malignant\", fillcolor=\"#e6843d\"] ;\n",
      "14 -> 16 ;\n",
      "17 [label=\"worst texture <= 30.975\\nsamples = 5\\nvalue = [2, 3]\\nclass = bengin\", fillcolor=\"#bddef6\"] ;\n",
      "16 -> 17 ;\n",
      "18 [label=\"samples = 3\\nvalue = [0, 3]\\nclass = bengin\", fillcolor=\"#399de5\"] ;\n",
      "17 -> 18 ;\n",
      "19 [label=\"samples = 2\\nvalue = [2, 0]\\nclass = malignant\", fillcolor=\"#e58139\"] ;\n",
      "17 -> 19 ;\n",
      "20 [label=\"samples = 132\\nvalue = [132, 0]\\nclass = malignant\", fillcolor=\"#e58139\"] ;\n",
      "16 -> 20 ;\n",
      "}\n"
     ]
    }
   ],
   "source": [
    "from sklearn.tree import DecisionTreeClassifier,export_graphviz\n",
    "from sklearn.datasets import load_breast_cancer\n",
    "from sklearn.model_selection import train_test_split\n",
    "import graphviz\n",
    "cancer =load_breast_cancer()\n",
    "x_train,x_test,y_train,y_test=train_test_split(cancer.data,cancer.target,stratify=cancer.target,random_state=42)\n",
    "tree=DecisionTreeClassifier(max_depth=4,random_state=0)\n",
    "tree.fit(x_train,y_train)\n",
    "print(\"Accucracy on training set:{:.3f}\".format(tree.score(x_train,y_train)))\n",
    "print(\"Accucracy on test set:{:.3f}\".format(tree.score(x_test,y_test)))\n",
    "export_graphviz(tree,out_file=\"tree.dot\",class_names=[\"malignant\",\"bengin\"],feature_names=cancer.feature_names,impurity=False,filled=True)\n",
    "with open(\"tree.dot\") as f:\n",
    "    print(22)\n",
    "    dot_graph=f.read()\n",
    "    print(dot_graph)\n",
    "    graphviz.Source(dot_graph)\n",
    "# print(x_train.shape)"
   ]
  },
  {
   "cell_type": "code",
   "execution_count": null,
   "metadata": {},
   "outputs": [],
   "source": []
  }
 ],
 "metadata": {
  "kernelspec": {
   "display_name": "Python 3",
   "language": "python",
   "name": "python3"
  },
  "language_info": {
   "codemirror_mode": {
    "name": "ipython",
    "version": 3
   },
   "file_extension": ".py",
   "mimetype": "text/x-python",
   "name": "python",
   "nbconvert_exporter": "python",
   "pygments_lexer": "ipython3",
   "version": "3.6.6"
  }
 },
 "nbformat": 4,
 "nbformat_minor": 2
}
