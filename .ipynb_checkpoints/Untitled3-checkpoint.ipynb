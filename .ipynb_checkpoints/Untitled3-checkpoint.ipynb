{
 "cells": [
  {
   "cell_type": "code",
   "execution_count": 2,
   "metadata": {},
   "outputs": [],
   "source": [
    "#!/usr/bin/python3.5\n",
    "# -*- coding: utf-8 -*- \n",
    "import sys\n",
    "import os\n",
    "import time\n",
    "import random\n",
    "import numpy as np\n",
    "import tensorflow as tf \n",
    "from PIL import Image"
   ]
  },
  {
   "cell_type": "code",
   "execution_count": 3,
   "metadata": {},
   "outputs": [],
   "source": [
    "SIZE = 1280\n",
    "WIDTH = 32\n",
    "HEIGHT = 40\n",
    "NUM_CLASSES = 34\n",
    "iterations = 30\n",
    "SAVER_DIR = \"train-saver/digits/\"\n",
    "LETTERS_DIGITS = (\"0\",\"1\",\"2\",\"3\",\"4\",\"5\",\"6\",\"7\",\"8\",\"9\",\"A\",\"B\",\"C\",\"D\",\"E\",\"F\",\"G\",\"H\",\"J\",\"K\",\"L\",\"M\",\"N\",\"P\",\"Q\",\"R\",\"S\",\"T\",\"U\",\"V\",\"W\",\"X\",\"Y\",\"Z\")\n",
    "license_num = \"\"\n",
    "time_begin = time.time()"
   ]
  },
  {
   "cell_type": "code",
   "execution_count": 4,
   "metadata": {},
   "outputs": [],
   "source": [
    "# 定义输入节点，对应于图片像素值矩阵集合和图片标签(即所代表的数字)\n",
    "x = tf.placeholder(tf.float32, shape=[None, SIZE])\n",
    "y_ = tf.placeholder(tf.float32, shape=[None, NUM_CLASSES])\n",
    "x_image = tf.reshape(x, [-1, WIDTH, HEIGHT, 1])"
   ]
  },
  {
   "cell_type": "code",
   "execution_count": 5,
   "metadata": {},
   "outputs": [],
   "source": [
    " # 定义卷积函数\n",
    "def conv_layer(inputs, W, b, conv_strides, kernel_size, pool_strides, padding):\n",
    "    L1_conv = tf.nn.conv2d(inputs, W, strides=conv_strides, padding=padding)\n",
    "    L1_relu = tf.nn.relu(L1_conv + b)\n",
    "    return tf.nn.max_pool(L1_relu, ksize=kernel_size, strides=pool_strides, padding='SAME')\n",
    " \n",
    "# 定义全连接层函数\n",
    "def full_connect(inputs, W, b):\n",
    "    return tf.nn.relu(tf.matmul(inputs, W) + b)"
   ]
  },
  {
   "cell_type": "code",
   "execution_count": 9,
   "metadata": {},
   "outputs": [
    {
     "name": "stdout",
     "output_type": "stream",
     "text": [
      "(0,)\n",
      "(0,)\n"
     ]
    }
   ],
   "source": [
    "if __name__ =='__main__' :\n",
    "    \n",
    "    # 第一次遍历图片目录是为了获取图片总数\n",
    "    input_count = 0\n",
    "    for i in range(0,NUM_CLASSES):\n",
    "        dir = '/car-datasets/tf_car_license_dataset/train_images/training-set/%s/' % i      # 这里可以改成你自己的图片目录，i为分类标签\n",
    "        for rt, dirs, files in os.walk(dir):\n",
    "            for filename in files:\n",
    "                input_count += 1\n",
    " \n",
    "    # 定义对应维数和各维长度的数组\n",
    "    input_images = np.array([[0]*SIZE for i in range(input_count)])\n",
    "    input_labels = np.array([[0]*NUM_CLASSES for i in range(input_count)])\n",
    " \n",
    "  # 第二次遍历图片目录是为了生成图片数据和标签\n",
    "    index = 0\n",
    "    for i in range(0,NUM_CLASSES):\n",
    "        dir = '/car-datasets/tf_car_license_dataset/train_images/training-set/%s/' % i     # 这里可以改成你自己的图片目录，i为分类标签\n",
    "        for rt, dirs, files in os.walk(dir):\n",
    "            for filename in files:\n",
    "                filename = dir + filename\n",
    "                img = Image.open(filename)\n",
    "                width = img.size[0]\n",
    "                height = img.size[1]\n",
    "                for h in range(0, height):\n",
    "                    for w in range(0, width):\n",
    "                        # 通过这样的处理，使数字的线条变细，有利于提高识别准确率\n",
    "                        if img.getpixel((w, h)) > 230:\n",
    "                            input_images[index][w+h*width] = 0\n",
    "                        else:\n",
    "                            input_images[index][w+h*width] = 1\n",
    "                input_labels[index][i] = 1\n",
    "                index += 1\n",
    " \n",
    "  # 第一次遍历图片目录是为了获取图片总数\n",
    "    val_count = 0\n",
    "    for i in range(0,NUM_CLASSES):\n",
    "        dir = '/car-datasets/tf_car_license_dataset/train_images/validation-set/%s/' % i      # 这里可以改成你自己的图片目录，i为分类标签\n",
    "        for rt, dirs, files in os.walk(dir):\n",
    "            for filename in files:\n",
    "                val_count += 1\n",
    " \n",
    "    # 定义对应维数和各维长度的数组\n",
    "    val_images = np.array([[0]*SIZE for i in range(val_count)])\n",
    "    val_labels = np.array([[0]*NUM_CLASSES for i in range(val_count)])\n",
    "    print(val_images.shape)\n",
    "    print(val_labels.shape)\n",
    "    # 第二次遍历图片目录是为了生成图片数据和标签\n",
    "    index = 0\n",
    "    for i in range(0,NUM_CLASSES):\n",
    "        dir = '/car-datasets/tf_car_license_dataset/train_images/validation-set/%s/' % i     # 这里可以改成你自己的图片目录，i为分类标签\n",
    "        for rt, dirs, files in os.walk(dir):\n",
    "            for filename in files:\n",
    "                filename = dir + filename\n",
    "                img = Image.open(filename)\n",
    "                width = img.size[0]\n",
    "                height = img.size[1]\n",
    "                for h in range(0, height):\n",
    "                    for w in range(0, width):\n",
    "                    # 通过这样的处理，使数字的线条变细，有利于提高识别准确率\n",
    "                        if img.getpixel((w, h)) > 230:\n",
    "                            val_images[index][w+h*width] = 0\n",
    "                        else:\n",
    "                            val_images[index][w+h*width] = 1\n",
    "                    val_labels[index][i] = 1\n",
    "                    index += 1\n",
    "    print(val_images.shape)\n",
    "    print(input_images.shape)"
   ]
  },
  {
   "cell_type": "code",
   "execution_count": null,
   "metadata": {},
   "outputs": [],
   "source": []
  }
 ],
 "metadata": {
  "kernelspec": {
   "display_name": "Python 3",
   "language": "python",
   "name": "python3"
  },
  "language_info": {
   "codemirror_mode": {
    "name": "ipython",
    "version": 3
   },
   "file_extension": ".py",
   "mimetype": "text/x-python",
   "name": "python",
   "nbconvert_exporter": "python",
   "pygments_lexer": "ipython3",
   "version": "3.6.6"
  }
 },
 "nbformat": 4,
 "nbformat_minor": 2
}
