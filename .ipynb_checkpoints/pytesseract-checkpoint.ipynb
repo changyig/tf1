{
 "cells": [
  {
   "cell_type": "code",
   "execution_count": 8,
   "metadata": {},
   "outputs": [
    {
     "name": "stdout",
     "output_type": "stream",
     "text": [
      "<PIL.PngImagePlugin.PngImageFile image mode=RGBA size=222x322 at 0x63BE278>\n",
      "\n",
      "风 急 天 高 猿 喝 哀 ,\n",
      "\n",
      " \n",
      "\n",
      "无 边 落 木 萧 萧 下\n",
      "\n",
      " \n",
      "\n",
      " \n",
      "\n",
      "万 里 悲 秋 常 作 客 ,\n",
      "\n",
      "渚 清 沙 白 鸟 飞 回 。\n",
      "\n",
      " \n",
      "\n",
      " \n",
      "\n",
      " \n",
      "\n",
      " \n",
      "\n",
      " \n",
      "\n",
      " \n",
      "\n",
      " \n",
      "\n",
      ", 不 尽 长 江 滚 滚 来 。\n",
      "\n",
      "月\n",
      "\n",
      " \n",
      "\n",
      " \n",
      "\n",
      "F 多 病 独 登 台 。\n",
      "\n",
      " \n",
      "\n",
      " \n",
      "\n",
      " \n",
      "\n",
      " \n",
      "\n",
      "艰 难 苦 恨 繁 霜 鬓 , 漫 倒 新 停 浊 酒 杯 。\n",
      "222\n"
     ]
    }
   ],
   "source": [
    "from PIL import Image\n",
    "import pytesseract\n",
    "# image=Image.open('1.png')\n",
    "image=Image.open('1.jpeg')\n",
    "image2=Image.open('denggao.jpeg')\n",
    "print(image)\n",
    "text = pytesseract.image_to_string(image,lang='chi_sim')\n",
    "# text2 = pytesseract.image_to_string(image2,lang='chi_sim')\n",
    "\n",
    "print(text)\n",
    "print(text2)\n",
    "\n",
    "print('222')\n"
   ]
  }
 ],
 "metadata": {
  "kernelspec": {
   "display_name": "Python 3",
   "language": "python",
   "name": "python3"
  },
  "language_info": {
   "codemirror_mode": {
    "name": "ipython",
    "version": 3
   },
   "file_extension": ".py",
   "mimetype": "text/x-python",
   "name": "python",
   "nbconvert_exporter": "python",
   "pygments_lexer": "ipython3",
   "version": "3.6.6"
  }
 },
 "nbformat": 4,
 "nbformat_minor": 2
}
