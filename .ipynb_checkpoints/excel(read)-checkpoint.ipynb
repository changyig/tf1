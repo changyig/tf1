{
 "cells": [
  {
   "cell_type": "code",
   "execution_count": 5,
   "metadata": {},
   "outputs": [
    {
     "name": "stdout",
     "output_type": "stream",
     "text": [
      "<xlrd.book.Book object at 0x0000000005334668>\n",
      "937\n",
      "18\n",
      "第1行数据 43594.250393518516\n",
      "第2行数据 43595.25011574074\n",
      "第3行数据 43610.250231481485\n",
      "第4行数据 43611.25040509259\n",
      "第5行数据 43590.2502662037\n",
      "第6行数据 43591.25025462963\n",
      "第7行数据 43592.25011574074\n",
      "第8行数据 43605.25009259259\n",
      "第9行数据 43606.25003472222\n",
      "第10行数据 43606.25010416667\n",
      "第11行数据 43611.25050925926\n",
      "第12行数据 43612.25042824074\n",
      "第13行数据 43586.25032407408\n",
      "第14行数据 43590.250439814816\n",
      "第15行数据 43591.250393518516\n",
      "第16行数据 43603.2500462963\n",
      "第17行数据 43604.25005787037\n",
      "第18行数据 43608.25030092592\n",
      "第19行数据 43587.25041666667\n",
      "第20行数据 43606.25050925926\n",
      "第21行数据 43615.25046296296\n",
      "获取前20行的数据\n"
     ]
    }
   ],
   "source": [
    "import xlrd\n",
    "# data = xlrd.open_workbook(r'C:\\Users\\Administrator\\Desktop\\zhifubao.xlsx') # 打开xls文件\n",
    "data = xlrd.open_workbook(r'C:\\Users\\Administrator\\Desktop\\csv\\20190501-20190531.xlsx')\n",
    "print(data)\n",
    "table = data.sheets()[0] # 打开第一张表\n",
    "nrows = table.nrows      # 获取表的行数\n",
    "ncols = table.ncols      # 获取表的行数\n",
    "print(nrows)\n",
    "print(ncols)\n",
    "# print(table.row_values(5))\n",
    "for i in range(nrows):   # 循环逐行打印\n",
    "    if i == 0: # 跳过第一行\n",
    "        continue\n",
    "    print('第%s行数据'%(i),table.row_values(i)[0])\n",
    "    if i>20:\n",
    "        break\n",
    "print('获取前20行的数据') "
   ]
  }
 ],
 "metadata": {
  "kernelspec": {
   "display_name": "Python 3",
   "language": "python",
   "name": "python3"
  },
  "language_info": {
   "codemirror_mode": {
    "name": "ipython",
    "version": 3
   },
   "file_extension": ".py",
   "mimetype": "text/x-python",
   "name": "python",
   "nbconvert_exporter": "python",
   "pygments_lexer": "ipython3",
   "version": "3.6.6"
  }
 },
 "nbformat": 4,
 "nbformat_minor": 2
}
