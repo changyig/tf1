{
 "cells": [
  {
   "cell_type": "code",
   "execution_count": 1,
   "metadata": {},
   "outputs": [
    {
     "name": "stdout",
     "output_type": "stream",
     "text": [
      "123\n",
      "1234\n",
      "{'log_id': 1401353003738997803, 'words_result_num': 10, 'words_result': [{'words': 'def extract words O'}, {'words': 'print(1234)'}, {'words': 'words='}, {'words': \"if kd. wait(hotkey=' alt+c)==None\"}, {'words': 'time. sleep(. 05)'}, {'words': 'saveimage=ImageGrab. grabclipboardo'}, {'words': \"saveimage. save( save. png')\"}, {'words': 'image=get_ file content( save. png)'}, {'words': 'res=client basi cGeneral(image)'}, {'words': 'print (res'}]}\n",
      "def extract words O\n",
      "print(1234)\n",
      "words=\n",
      "if kd. wait(hotkey=' alt+c)==None\n",
      "time. sleep(. 05)\n",
      "saveimage=ImageGrab. grabclipboardo\n",
      "saveimage. save( save. png')\n",
      "image=get_ file content( save. png)\n",
      "res=client basi cGeneral(image)\n",
      "print (res\n",
      "def extract words O\n",
      "print(1234)\n",
      "words=\n",
      "if kd. wait(hotkey=' alt+c)==None\n",
      "time. sleep(. 05)\n",
      "saveimage=ImageGrab. grabclipboardo\n",
      "saveimage. save( save. png')\n",
      "image=get_ file content( save. png)\n",
      "res=client basi cGeneral(image)\n",
      "print (res\n",
      "\n"
     ]
    }
   ],
   "source": [
    "from aip import AipOcr\n",
    "import keyboard as kd\n",
    "from PIL import Image,ImageGrab\n",
    "import time\n",
    "# import keyboard\n",
    "\"\"\" 你的 APPID AK SK \"\"\"\n",
    "APP_ID = '17671525'\n",
    "API_KEY = 'n79FxVUbOuQ567KMCWSb5Zru'\n",
    "SECRET_KEY = 'GQBiiWv1QUuuSzm49r6hbUGCjwMtgZgj'\n",
    "client = AipOcr(APP_ID, API_KEY, SECRET_KEY)\n",
    "\"\"\" 读取图片 \"\"\"\n",
    "def get_file_content(filePath):\n",
    "    with open(filePath, 'rb') as fp:\n",
    "        return fp.read()\n",
    "\n",
    "\n",
    "def extract_words():\n",
    "#     print('1234')\n",
    "    words=''\n",
    "    if kd.wait(hotkey='alt+c')==None:\n",
    "        time.sleep(0.05)\n",
    "        saveimage=ImageGrab.grabclipboard()\n",
    "        saveimage.save('save.png')\n",
    "        image=get_file_content('save.png')\n",
    "        res=client.basicGeneral(image)\n",
    "#         print(res)\n",
    "#         quit()\n",
    "        if res['words_result']:\n",
    "#             print('s')\n",
    "            for i in res['words_result']:\n",
    "#                 print(i['words'])\n",
    "                words=words+i['words']+'\\r\\n'\n",
    "    return words\n",
    "\n",
    "# print('123')\n",
    "result=extract_words()\n",
    "print(result)"
   ]
  },
  {
   "cell_type": "code",
   "execution_count": null,
   "metadata": {},
   "outputs": [],
   "source": []
  }
 ],
 "metadata": {
  "kernelspec": {
   "display_name": "Python 3",
   "language": "python",
   "name": "python3"
  },
  "language_info": {
   "codemirror_mode": {
    "name": "ipython",
    "version": 3
   },
   "file_extension": ".py",
   "mimetype": "text/x-python",
   "name": "python",
   "nbconvert_exporter": "python",
   "pygments_lexer": "ipython3",
   "version": "3.6.6"
  }
 },
 "nbformat": 4,
 "nbformat_minor": 2
}
