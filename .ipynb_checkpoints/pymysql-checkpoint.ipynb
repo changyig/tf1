{
 "cells": [
  {
   "cell_type": "code",
   "execution_count": 1,
   "metadata": {},
   "outputs": [
    {
     "ename": "SyntaxError",
     "evalue": "invalid character in identifier (<ipython-input-1-d01ad62c8149>, line 65)",
     "output_type": "error",
     "traceback": [
      "\u001b[1;36m  File \u001b[1;32m\"<ipython-input-1-d01ad62c8149>\"\u001b[1;36m, line \u001b[1;32m65\u001b[0m\n\u001b[1;33m    print(\"总共统计数量 %s \" % （all_nums）)\u001b[0m\n\u001b[1;37m                                  ^\u001b[0m\n\u001b[1;31mSyntaxError\u001b[0m\u001b[1;31m:\u001b[0m invalid character in identifier\n"
     ]
    }
   ],
   "source": [
    "%matplotlib inline\n",
    "import pymysql\n",
    "import time\n",
    "from matplotlib import pyplot as plt\n",
    "config={\n",
    "    \"host\":\"127.0.0.1\",\n",
    "    \"user\":\"root\",\n",
    "    \"password\":\"bnwt!@#123\",\n",
    "    \"database\":\"bnwt\"\n",
    "}\n",
    "x_data=[x for x in range(24)]\n",
    "y_data=[x*0 for x in range(24)]\n",
    "db = pymysql.connect(**config)\n",
    "# 使用 cursor() 方法创建一个游标对象 cursor\n",
    "cursor = db.cursor()\n",
    "#查询数据库获取数据源\n",
    "def selectTable(conn,cur,table):\n",
    "    # sql=\"select COLUMN_NAME from information_schema.COLUMNS where table_name = 'test'\"\n",
    "    sql = \"select id,pay_time,type from bnwt_card_charge where status=1 or status=2 order by id asc \"\n",
    "    sta = cur.execute(sql)\n",
    "    \n",
    "    res=cur.fetchall()\n",
    "#     index=cur.description\n",
    "#     print(index)\n",
    "    conn.commit()\n",
    "    return (res)\n",
    "#查询充电记录表格获取数据源\n",
    "def getChargeNums(conn,cur,table):\n",
    "    \n",
    "    sql = \"select id,pay_time from bnwt_pay where status=1 order by id asc \"\n",
    "    sta = cur.execute(sql)\n",
    "    res=cur.fetchall()\n",
    "    conn.commit()\n",
    "    return (res)\n",
    "# res=selectTable(db,cursor,'photos')\n",
    "res=getChargeNums(db,cursor,'pay')\n",
    "# print(res)\n",
    "quit()\n",
    "count=0\n",
    "for i in res:\n",
    "    count=count+1\n",
    "    timeArray = time.localtime(i[1])\n",
    "    #转换成时间点\n",
    "    hour = time.strftime(\"%H\", timeArray)\n",
    "#     if count<500:\n",
    "    if 1:\n",
    "        for h in x_data:\n",
    "            if int(hour)==h:\n",
    "#                 print(\"%s相同 %s %s\" % (count,h,hour))\n",
    "                y_data[h]=y_data[h]+1\n",
    "#绘制bar图标便于分析情况\n",
    "def show_bar(x_data,y_data):\n",
    "    plt.bar(x_data, y_data, align =  'center') \n",
    "    plt.xticks(x_data)\n",
    "    plt.title('Bar graph') \n",
    "    plt.ylabel('sum') \n",
    "    plt.xlabel('time') \n",
    "    plt.show()\n",
    "show_bar(x_data,y_data) \n",
    "\n",
    "all_nums=0\n",
    "for i in y_data:\n",
    "    all_nums+=i\n",
    "\n",
    "print(\"总共统计数量 %s \" % （all_nums）)\n",
    "    "
   ]
  }
 ],
 "metadata": {
  "kernelspec": {
   "display_name": "Python 3",
   "language": "python",
   "name": "python3"
  },
  "language_info": {
   "codemirror_mode": {
    "name": "ipython",
    "version": 3
   },
   "file_extension": ".py",
   "mimetype": "text/x-python",
   "name": "python",
   "nbconvert_exporter": "python",
   "pygments_lexer": "ipython3",
   "version": "3.6.6"
  }
 },
 "nbformat": 4,
 "nbformat_minor": 2
}
