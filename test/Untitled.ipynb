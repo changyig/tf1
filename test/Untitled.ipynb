{
 "cells": [
  {
   "cell_type": "code",
   "execution_count": 18,
   "metadata": {},
   "outputs": [],
   "source": [
    "sum=3\n",
    "n=0\n",
    "result=1\n",
    "if n>1:\n",
    "    for i in range(1,n+1):\n",
    "        print(i)\n",
    "        result*=sum\n",
    "        print(result)\n",
    "elif n<0 :\n",
    "    m=-n+1\n",
    "    print(m)\n",
    "    for i in range(1,m):\n",
    "        result/=sum\n",
    "        print(result)\n",
    "else:\n",
    "   result=1"
   ]
  },
  {
   "cell_type": "code",
   "execution_count": null,
   "metadata": {},
   "outputs": [],
   "source": [
    "a=[sum]"
   ]
  }
 ],
 "metadata": {
  "kernelspec": {
   "display_name": "Python 3",
   "language": "python",
   "name": "python3"
  },
  "language_info": {
   "codemirror_mode": {
    "name": "ipython",
    "version": 3
   },
   "file_extension": ".py",
   "mimetype": "text/x-python",
   "name": "python",
   "nbconvert_exporter": "python",
   "pygments_lexer": "ipython3",
   "version": "3.6.6"
  }
 },
 "nbformat": 4,
 "nbformat_minor": 2
}
