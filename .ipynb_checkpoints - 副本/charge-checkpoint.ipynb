{
 "cells": [
  {
   "cell_type": "code",
   "execution_count": 3,
   "metadata": {
    "scrolled": true
   },
   "outputs": [
    {
     "ename": "AttributeError",
     "evalue": "'tuple' object has no attribute 'execute'",
     "output_type": "error",
     "traceback": [
      "\u001b[1;31m---------------------------------------------------------------------------\u001b[0m",
      "\u001b[1;31mAttributeError\u001b[0m                            Traceback (most recent call last)",
      "\u001b[1;32m<ipython-input-3-710c9e325b44>\u001b[0m in \u001b[0;36m<module>\u001b[1;34m\u001b[0m\n\u001b[0;32m     47\u001b[0m \u001b[1;31m# #                 print(\"%s不相同 %s %s\" % (count,y[2],x))\u001b[0m\u001b[1;33m\u001b[0m\u001b[1;33m\u001b[0m\u001b[0m\n\u001b[0;32m     48\u001b[0m             \u001b[0mx_count\u001b[0m\u001b[1;33m+=\u001b[0m\u001b[1;36m1\u001b[0m\u001b[1;33m\u001b[0m\u001b[0m\n\u001b[1;32m---> 49\u001b[1;33m \u001b[0mshow_charge\u001b[0m\u001b[1;33m(\u001b[0m\u001b[0mx_manager\u001b[0m\u001b[1;33m,\u001b[0m\u001b[0my_data\u001b[0m\u001b[1;33m)\u001b[0m\u001b[1;33m\u001b[0m\u001b[0m\n\u001b[0m\u001b[0;32m     50\u001b[0m \u001b[0mprint\u001b[0m\u001b[1;33m(\u001b[0m\u001b[0mx_data\u001b[0m\u001b[1;33m)\u001b[0m\u001b[1;33m\u001b[0m\u001b[0m\n\u001b[0;32m     51\u001b[0m \u001b[1;33m\u001b[0m\u001b[0m\n",
      "\u001b[1;32m<ipython-input-3-710c9e325b44>\u001b[0m in \u001b[0;36mshow_charge\u001b[1;34m(conn, cur)\u001b[0m\n\u001b[0;32m     27\u001b[0m \u001b[1;32mdef\u001b[0m \u001b[0mshow_charge\u001b[0m\u001b[1;33m(\u001b[0m\u001b[0mconn\u001b[0m\u001b[1;33m,\u001b[0m\u001b[0mcur\u001b[0m\u001b[1;33m)\u001b[0m\u001b[1;33m:\u001b[0m\u001b[1;33m\u001b[0m\u001b[0m\n\u001b[0;32m     28\u001b[0m     \u001b[0msql\u001b[0m \u001b[1;33m=\u001b[0m \u001b[1;34m\"select id,pay_time,manager_id from bnwt_pay where status=1 and manager_id !=0 order by id asc limit 0,100  \"\u001b[0m\u001b[1;33m\u001b[0m\u001b[0m\n\u001b[1;32m---> 29\u001b[1;33m     \u001b[0msta\u001b[0m \u001b[1;33m=\u001b[0m \u001b[0mcur\u001b[0m\u001b[1;33m.\u001b[0m\u001b[0mexecute\u001b[0m\u001b[1;33m(\u001b[0m\u001b[0msql\u001b[0m\u001b[1;33m)\u001b[0m\u001b[1;33m\u001b[0m\u001b[0m\n\u001b[0m\u001b[0;32m     30\u001b[0m     \u001b[0mres\u001b[0m\u001b[1;33m=\u001b[0m\u001b[0mcur\u001b[0m\u001b[1;33m.\u001b[0m\u001b[0mfetchall\u001b[0m\u001b[1;33m(\u001b[0m\u001b[1;33m)\u001b[0m\u001b[1;33m\u001b[0m\u001b[0m\n\u001b[0;32m     31\u001b[0m     \u001b[0mconn\u001b[0m\u001b[1;33m.\u001b[0m\u001b[0mcommit\u001b[0m\u001b[1;33m(\u001b[0m\u001b[1;33m)\u001b[0m\u001b[1;33m\u001b[0m\u001b[0m\n",
      "\u001b[1;31mAttributeError\u001b[0m: 'tuple' object has no attribute 'execute'"
     ]
    }
   ],
   "source": [
    "%matplotlib inline\n",
    "import pymysql\n",
    "import time\n",
    "from matplotlib import pyplot as plt\n",
    "\n",
    "config={\n",
    "    \"host\":\"127.0.0.1\",\n",
    "    \"user\":\"root\",\n",
    "    \"password\":\"bnwt!@#123\",\n",
    "    \"database\":\"bnwt\"\n",
    "}\n",
    "db = pymysql.connect(**config)\n",
    "cursor = db.cursor()\n",
    "\n",
    "\n",
    "#获取x轴管理员id\n",
    "def show_manager_id(conn,cur):\n",
    "    sql = \"select manager_id from bnwt_pay where status=1  group by manager_id limit 0,100 \"\n",
    "    sta = cur.execute(sql)\n",
    "    res=cur.fetchall()\n",
    "    conn.commit()\n",
    "    return res\n",
    "res=show_manager_id(db,cursor)\n",
    "x_manager=[x[0] for x in res]\n",
    "x_data=[x[0]*0 for x in res]\n",
    "# print(x_manager)\n",
    "#获取y轴充电记录中的数据\n",
    "def show_charge(conn,cur):\n",
    "    sql = \"select id,pay_time,manager_id from bnwt_pay where status=1 and manager_id !=0 order by id asc limit 0,100  \"\n",
    "    sta = cur.execute(sql)\n",
    "    res=cur.fetchall()\n",
    "    conn.commit()\n",
    "    return res\n",
    "#根据获取到的充电记录和管理员id进行相应数据处理\n",
    "y_data=show_charge(db,cursor)\n",
    "# print(y_data)\n",
    "def data_handle(x_manager,y_data):\n",
    "    count=0\n",
    "    for y in y_data:\n",
    "        x_count=0\n",
    "        for x in x_manager:\n",
    "            \n",
    "            if y[2]==x:\n",
    "                x_data[x_count]+=1\n",
    "#                 print(\"%s相同 %s %s\" % (count,y[2],x))\n",
    "#             else:\n",
    "                \n",
    "# #                 print(\"%s不相同 %s %s\" % (count,y[2],x))\n",
    "            x_count+=1\n",
    "data_handle(x_manager,y_data)\n",
    "print(x_data)\n",
    "\n",
    "print(x_manager)\n",
    "#绘制bar图标便于分析情况\n",
    "def show_bar(x_manager,x_data):\n",
    "    plt.bar(x_manager, x_data, align =  'center') \n",
    "    plt.xticks(x_manager)\n",
    "    plt.title('Bar graph') \n",
    "    plt.ylabel('sum') \n",
    "    plt.xlabel('time') \n",
    "    plt.show()\n",
    "show_bar(x_manager,x_data)"
   ]
  }
 ],
 "metadata": {
  "kernelspec": {
   "display_name": "Python 3",
   "language": "python",
   "name": "python3"
  },
  "language_info": {
   "codemirror_mode": {
    "name": "ipython",
    "version": 3
   },
   "file_extension": ".py",
   "mimetype": "text/x-python",
   "name": "python",
   "nbconvert_exporter": "python",
   "pygments_lexer": "ipython3",
   "version": "3.6.6"
  }
 },
 "nbformat": 4,
 "nbformat_minor": 2
}
