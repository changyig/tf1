{
 "cells": [
  {
   "cell_type": "code",
   "execution_count": 10,
   "metadata": {},
   "outputs": [
    {
     "name": "stdout",
     "output_type": "stream",
     "text": [
      "succ\n",
      "<Response [202]>\n",
      "None\n"
     ]
    }
   ],
   "source": [
    "import requests\n",
    "from urllib.parse import urlencode\n",
    "import json\n",
    "\n",
    "def get_page(offset):\n",
    "  params = {\n",
    "    'start': offset,\n",
    "    'pageSize': '90',\n",
    "    'cityId': '530',\n",
    "    'salary': '0,0',\n",
    "    'workExperience': '-1',\n",
    "    'education': '-1',\n",
    "    'companyType': '-1',\n",
    "    'employmentType': '-1',\n",
    "    'jobWelfareTag': '-1',\n",
    "    'kw': '数据分析师',\n",
    "    'kt': '3',\n",
    "    '_v': '0.77091902',\n",
    "    'x-zp-page-request-id': '8ff0aa73bf834b408f46324e44d89b84-1562722989022-210101',\n",
    "    'x-zp-client-id': '2dc4c9a4-e80d-4488-84a3-03426dd69a1e'\n",
    "\n",
    "  }\n",
    "  base_url = 'https://fe-api.zhaopin.com/c/i/sou?'\n",
    "  #url = base_url + urlencode(params)\n",
    "  url = base_url \n",
    "  try:\n",
    "    resp = requests.get(url)\n",
    "    print(resp)\n",
    "    if 200 == resp.status_code:\n",
    "      print(resp.json())\n",
    "      return resp.json()\n",
    "  except requests.ConnectionError:\n",
    "    return None\n",
    "\n",
    "def get_information(json_page):\n",
    "  if json_page.get('data'):\n",
    "    results = json_page.get('data').get('results')\n",
    "    for result in results:\n",
    "       yield {\n",
    "         'city': result.get('city').get('display'),\n",
    "          'company': result.get('company').get('name'),\n",
    "          #'welfare':result.get('welfare'),\n",
    "          'workingExp':result.get('workingExp').get('name'),\n",
    "          'salary':result.get('salary'),\n",
    "          'eduLevel':result.get('eduLevel').get('name')\n",
    "        }\n",
    "print('succ')\n",
    "\n",
    "def write_to_file(content):\n",
    "   with open('result.txt','a',encoding='utf-8') as f:\n",
    "      print(type(json.dumps(content)))\n",
    "      f.write(json.dumps(content,ensure_ascii=False)+'\\n')\n",
    "\n",
    "def main(offset):\n",
    "  json_page=get_page(offset)\n",
    "  print(json_page)\n",
    "#  for content in get_information(json_page):\n",
    "#    write_to_file(content)\n",
    "\n",
    "if __name__=='__main__':\n",
    "    main(offset=90*i)"
   ]
  },
  {
   "cell_type": "code",
   "execution_count": null,
   "metadata": {},
   "outputs": [],
   "source": []
  }
 ],
 "metadata": {
  "kernelspec": {
   "display_name": "Python 3",
   "language": "python",
   "name": "python3"
  }
 },
 "nbformat": 4,
 "nbformat_minor": 2
}
