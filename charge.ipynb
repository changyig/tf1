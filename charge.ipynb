{
 "cells": [
  {
   "cell_type": "code",
   "execution_count": 1,
   "metadata": {
    "scrolled": true
   },
   "outputs": [
    {
     "name": "stdout",
     "output_type": "stream",
     "text": [
      "[0, 11, 6, 60, 0, 2, 0, 4, 0, 0, 0, 0, 0, 3, 0, 5, 0, 9, 0, 0, 0, 0, 0, 0, 0, 0, 0, 0, 0, 0, 0, 0, 0, 0, 0, 0, 0, 0, 0, 0, 0, 0, 0, 0, 0, 0, 0, 0, 0, 0, 0, 0, 0, 0, 0, 0, 0, 0, 0, 0, 0, 0, 0, 0, 0]\n",
      "[0, 2, 4, 5, 6, 9, 10, 11, 12, 16, 17, 18, 19, 22, 24, 25, 26, 27, 28, 29, 35, 78, 80, 82, 84, 85, 86, 88, 89, 90, 92, 93, 96, 97, 106, 107, 110, 114, 115, 116, 117, 120, 121, 124, 125, 126, 128, 129, 134, 135, 138, 139, 141, 142, 143, 146, 150, 154, 155, 157, 160, 162, 168, 173, 174]\n"
     ]
    },
    {
     "data": {
      "image/png": "[encoded data removed]",
      "text/plain": [
       "<Figure size 432x288 with 1 Axes>"
      ]
     },
     "metadata": {
      "needs_background": "light"
     },
     "output_type": "display_data"
    }
   ],
   "source": [
    "%matplotlib inline\n",
    "import pymysql\n",
    "import time\n",
    "from matplotlib import pyplot as plt\n",
    "config={\n",
    "    \"host\":\"127.0.0.1\",\n",
    "    \"user\":\"root\",\n",
    "    \"password\":\"bnwt!@#123\",\n",
    "    \"database\":\"bnwt\"\n",
    "}\n",
    "db = pymysql.connect(**config)\n",
    "cursor = db.cursor()\n",
    "\n",
    "\n",
    "#获取x轴管理员id\n",
    "def show_manager_id(conn,cur):\n",
    "    sql = \"select manager_id from bnwt_pay where status=1  group by manager_id limit 0,100 \"\n",
    "    sta = cur.execute(sql)\n",
    "    res=cur.fetchall()\n",
    "    conn.commit()\n",
    "    return res\n",
    "res=show_manager_id(db,cursor)\n",
    "x_manager=[x[0] for x in res]\n",
    "x_data=[x[0]*0 for x in res]\n",
    "# print(x_manager)\n",
    "#获取y轴充电记录中的数据\n",
    "def show_charge(conn,cur):\n",
    "    sql = \"select id,pay_time,manager_id from bnwt_pay where status=1 and manager_id !=0 order by id asc limit 0,100  \"\n",
    "    sta = cur.execute(sql)\n",
    "    res=cur.fetchall()\n",
    "    conn.commit()\n",
    "    return res\n",
    "#根据获取到的充电记录和管理员id进行相应数据处理\n",
    "y_data=show_charge(db,cursor)\n",
    "# print(y_data)\n",
    "def data_handle(x_manager,y_data):\n",
    "    count=0\n",
    "    for y in y_data:\n",
    "        x_count=0\n",
    "        for x in x_manager:\n",
    "            \n",
    "            if y[2]==x:\n",
    "                x_data[x_count]+=1\n",
    "#                 print(\"%s相同 %s %s\" % (count,y[2],x))\n",
    "#             else:\n",
    "                \n",
    "# #                 print(\"%s不相同 %s %s\" % (count,y[2],x))\n",
    "            x_count+=1\n",
    "data_handle(x_manager,y_data)\n",
    "print(x_data)\n",
    "\n",
    "print(x_manager)\n",
    "#绘制bar图标便于分析情况\n",
    "def show_bar(x_manager,x_data):\n",
    "    plt.bar(x_manager, x_data, align =  'center') \n",
    "    plt.xticks(x_manager)\n",
    "    plt.title('Bar graph') \n",
    "    plt.ylabel('sum') \n",
    "    plt.xlabel('time') \n",
    "    plt.show()\n",
    "show_bar(x_manager,x_data)"
   ]
  }
 ],
 "metadata": {
  "kernelspec": {
   "display_name": "Python 3",
   "language": "python",
   "name": "python3"
  },
  "language_info": {
   "codemirror_mode": {
    "name": "ipython",
    "version": 3
   },
   "file_extension": ".py",
   "mimetype": "text/x-python",
   "name": "python",
   "nbconvert_exporter": "python",
   "pygments_lexer": "ipython3",
   "version": "3.6.6"
  }
 },
 "nbformat": 4,
 "nbformat_minor": 2
}
