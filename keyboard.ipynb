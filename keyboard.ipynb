{
 "cells": [
  {
   "cell_type": "code",
   "execution_count": 13,
   "metadata": {},
   "outputs": [
    {
     "name": "stdout",
     "output_type": "stream",
     "text": [
      "<PIL.BmpImagePlugin.DibImageFile image mode=RGB size=1327x407 at 0x59A3DA0>\n"
     ]
    }
   ],
   "source": [
    "from PIL import Image,ImageGrab\n",
    "import keyboard as kd\n",
    "import time\n",
    "# print(kd.wait(hotkey='f1')==None):\n",
    "# if kd.wait(hotkey='ctrl+`')==None:\n",
    "    \n",
    "if kd.wait(hotkey='alt+c')==None:\n",
    "    time.sleep(0.05)\n",
    "    image=ImageGrab.grabclipboard()\n",
    "    print(image)\n",
    "    image.save('save.png')"
   ]
  }
 ],
 "metadata": {
  "kernelspec": {
   "display_name": "Python 3",
   "language": "python",
   "name": "python3"
  },
  "language_info": {
   "codemirror_mode": {
    "name": "ipython",
    "version": 3
   },
   "file_extension": ".py",
   "mimetype": "text/x-python",
   "name": "python",
   "nbconvert_exporter": "python",
   "pygments_lexer": "ipython3",
   "version": "3.6.6"
  }
 },
 "nbformat": 4,
 "nbformat_minor": 2
}
