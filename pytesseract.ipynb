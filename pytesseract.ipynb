{
 "cells": [
  {
   "cell_type": "code",
   "execution_count": 10,
   "metadata": {},
   "outputs": [
    {
     "name": "stdout",
     "output_type": "stream",
     "text": [
      "<PIL.PngImagePlugin.PngImageFile image mode=RGBA size=266x23 at 0x63BE208>\n",
      "谈 口 有人 U 标\n",
      "222\n"
     ]
    }
   ],
   "source": [
    "from PIL import Image\n",
    "import pytesseract\n",
    "# image=Image.open('1.png')\n",
    "image=Image.open('3.png')\n",
    "image2=Image.open('denggao.jpeg')\n",
    "print(image)\n",
    "text = pytesseract.image_to_string(image,lang='chi_sim')\n",
    "# text2 = pytesseract.image_to_string(image2,lang='chi_sim')\n",
    "\n",
    "print(text)\n",
    "# print(text2)\n",
    "\n",
    "print('222')\n"
   ]
  }
 ],
 "metadata": {
  "kernelspec": {
   "display_name": "Python 3",
   "language": "python",
   "name": "python3"
  },
  "language_info": {
   "codemirror_mode": {
    "name": "ipython",
    "version": 3
   },
   "file_extension": ".py",
   "mimetype": "text/x-python",
   "name": "python",
   "nbconvert_exporter": "python",
   "pygments_lexer": "ipython3",
   "version": "3.6.6"
  }
 },
 "nbformat": 4,
 "nbformat_minor": 2
}
